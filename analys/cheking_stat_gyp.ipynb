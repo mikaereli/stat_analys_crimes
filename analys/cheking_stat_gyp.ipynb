{
 "cells": [
  {
   "cell_type": "code",
   "execution_count": 53,
   "metadata": {},
   "outputs": [],
   "source": [
    "import matplotlib.pyplot as plt\n",
    "import numpy as np\n",
    "import scipy.stats as st"
   ]
  },
  {
   "cell_type": "markdown",
   "metadata": {},
   "source": [
    "### Обрабатываем данные"
   ]
  },
  {
   "cell_type": "code",
   "execution_count": 2,
   "metadata": {},
   "outputs": [],
   "source": [
    "f = open('Москва_2021.txt', \"r\")\n",
    "data = []\n",
    "for line in f:\n",
    "    line = line.strip()\n",
    "    if line:  \n",
    "        number = int(line) \n",
    "        data.append(number)"
   ]
  },
  {
   "cell_type": "code",
   "execution_count": 3,
   "metadata": {},
   "outputs": [
    {
     "data": {
      "text/plain": [
       "[23, 32, 27, 26, 44, 49, 63, 34, 66, 66]"
      ]
     },
     "execution_count": 3,
     "metadata": {},
     "output_type": "execute_result"
    }
   ],
   "source": [
    "data[:10]"
   ]
  },
  {
   "cell_type": "markdown",
   "metadata": {},
   "source": [
    "### Определяем объем выборки и выборочные среднее для каждой выборки"
   ]
  },
  {
   "cell_type": "code",
   "execution_count": 56,
   "metadata": {},
   "outputs": [
    {
     "name": "stdout",
     "output_type": "stream",
     "text": [
      "Объем каждой выборки: 62\n",
      "Выборочные средние для каждой выборки: [34.37096774193548, 34.03225806451613, 36.96774193548387, 33.903225806451616, 36.354838709677416, 31.483870967741936, 37.79032258064516, 36.24193548387097, 31.903225806451612, 35.0, 37.24193548387097, 34.58064516129032, 34.87096774193548, 34.08064516129032, 34.25806451612903, 33.33870967741935, 36.12903225806452, 37.403225806451616, 32.096774193548384, 33.08064516129032, 36.41935483870968, 34.306451612903224, 32.354838709677416, 33.25806451612903, 36.693548387096776, 38.67741935483871, 32.483870967741936, 34.82258064516129, 33.37096774193548, 36.45161290322581, 33.96774193548387, 32.04838709677419, 34.645161290322584, 34.41935483870968, 35.645161290322584, 37.225806451612904]\n"
     ]
    }
   ],
   "source": [
    "gamma = 0.95\n",
    "delta = 3\n",
    "t = st.t.ppf((1 + gamma) / 2, len(data))\n",
    "sigma = np.std(data)\n",
    "\n",
    "n = int(np.ceil(t**2 * sigma**2 / delta**2))\n",
    "\n",
    "samples = []\n",
    "means_of_samples = []\n",
    "for i in range(36):\n",
    "    sample = np.random.choice(data, size=n, replace=True)\n",
    "    samples.append(sample)\n",
    "    sample_mean = np.mean(sample)\n",
    "    means_of_samples.append(sample_mean)\n",
    "\n",
    "print(\"Объем каждой выборки:\", n)\n",
    "print(\"Выборочные средние для каждой выборки:\", means_of_samples)"
   ]
  },
  {
   "cell_type": "markdown",
   "metadata": {},
   "source": [
    "## 1. По критерию Пирсона при уровне значимости α = 0,05 проверить нулевую гипотезу о нормальном распределении\n"
   ]
  },
  {
   "cell_type": "code",
   "execution_count": 57,
   "metadata": {},
   "outputs": [],
   "source": [
    "alpha = 0.05"
   ]
  },
  {
   "cell_type": "markdown",
   "metadata": {},
   "source": [
    "### a. Случайной величины «возраст». Для этого разбить массив исходных данных на 7 групп с равными интервалами (концы интервала – целые)."
   ]
  },
  {
   "cell_type": "code",
   "execution_count": 80,
   "metadata": {},
   "outputs": [
    {
     "name": "stdout",
     "output_type": "stream",
     "text": [
      "Интервалы:  [18.21428571 26.64285714 35.07142857 43.5        51.92857143 60.35714286\n",
      " 68.78571429]\n",
      "Шаг:  8.42857142857143\n",
      "Тест нормальности для возраста (критерий Пирсона):\n",
      "Хи-квадрат статистика: 2903.5525084801925\n",
      "P-значение: 0.0\n",
      "Отвергаем нулевую гипотезу о нормальном распределении.\n"
     ]
    }
   ],
   "source": [
    "hist, bin_edges = np.histogram(data, bins=7)\n",
    "bin_centers = (bin_edges[:-1] + bin_edges[1:]) / 2\n",
    "print('Интервалы: ', bin_centers)\n",
    "print('Шаг: ', bin_centers[1] - bin_centers[0])\n",
    "# Вычисляем ожидаемые частоты для нормального распределения\n",
    "mean, std = np.mean(data), np.std(data)\n",
    "expected = st.norm.pdf(bin_centers, mean, std) # st.norm.pdf - вычисляет Z значение\n",
    "expected = expected / sum(expected) * len(data)\n",
    "# Выполняем тест хи-квадрат\n",
    "chi2, p_value = st.chisquare(hist, expected)\n",
    "\n",
    "print(f\"Тест нормальности для возраста (критерий Пирсона):\")\n",
    "print(f\"Хи-квадрат статистика: {chi2}\")\n",
    "print(f\"P-значение: {p_value}\")\n",
    "print(f\"{'Отвергаем' if p_value < alpha else 'Не отвергаем'} нулевую гипотезу о нормальном распределении.\")"
   ]
  },
  {
   "cell_type": "markdown",
   "metadata": {},
   "source": [
    "### б. Случайной величины «средний возраст», используя выборку средних, полученную в лабораторной работе №2."
   ]
  },
  {
   "cell_type": "code",
   "execution_count": 81,
   "metadata": {},
   "outputs": [
    {
     "name": "stdout",
     "output_type": "stream",
     "text": [
      "Интервалы: [31.5 32.5 33.5 34.5 35.5 36.5 37.5 38.5]\n",
      "Шаг:  1.0\n",
      "Тест нормальности для среднего возраста (критерий Пирсона):\n",
      "Хи-квадрат статистика: 5.798622351165335\n",
      "P-значение: 0.563450299236695\n",
      "Не отвергаем нулевую гипотезу о нормальном распределении.\n"
     ]
    }
   ],
   "source": [
    "min_mean = np.floor(min(means_of_samples))\n",
    "max_mean = np.ceil(max(means_of_samples))\n",
    "bins = np.arange(min_mean, max_mean + 1, 1)\n",
    "\n",
    "hist, bin_edges = np.histogram(means_of_samples, bins=bins)\n",
    "bin_centers = (bin_edges[:-1] + bin_edges[1:]) / 2\n",
    "print(\"Интервалы:\", bin_centers)\n",
    "print('Шаг: ', bin_centers[1] - bin_centers[0])\n",
    "# Вычисляем параметры нормального распределения\n",
    "mean = np.mean(means_of_samples)\n",
    "std = np.std(means_of_samples, ddof=1)\n",
    "\n",
    "# Вычисляем ожидаемые частоты\n",
    "expected = st.norm.pdf(bin_centers, mean, std)\n",
    "expected = expected / sum(expected) * len(means_of_samples)\n",
    "\n",
    "# Выполняем тест хи-квадрат\n",
    "chi2, p_value = st.chisquare(hist, expected)\n",
    "\n",
    "print(f\"Тест нормальности для среднего возраста (критерий Пирсона):\")\n",
    "print(f\"Хи-квадрат статистика: {chi2}\")\n",
    "print(f\"P-значение: {p_value}\")\n",
    "print(f\"{'Отвергаем' if p_value < alpha else 'Не отвергаем'} нулевую гипотезу о нормальном распределении.\")"
   ]
  },
  {
   "cell_type": "markdown",
   "metadata": {},
   "source": [
    "## 2. По двум сгенерированным выборкам из лабораторной работы №2 проверить нулевую гипотезу о равенстве дисперсий генеральных совокупностей при уровне значимости 0,05 при конкурирующей гипотезе:\n"
   ]
  },
  {
   "cell_type": "code",
   "execution_count": 82,
   "metadata": {},
   "outputs": [
    {
     "name": "stdout",
     "output_type": "stream",
     "text": [
      "\n",
      "Тест равенства дисперсий:\n",
      "F-статистика: 1.5284504957432645\n",
      "P-значение: 0.10019875648140153\n",
      "Не отвергаем нулевую гипотезу о равенстве дисперсий.\n"
     ]
    }
   ],
   "source": [
    "f_value = np.var(samples[0], ddof=1) / np.var(samples[1], ddof=1)\n",
    "df1, df2 = len(samples[0]) - 1, len(samples[1]) - 1\n",
    "p_value = 2 * min(st.f.cdf(f_value, df1, df2), 1 - st.f.cdf(f_value, df1, df2))\n",
    "\n",
    "print(f\"\\nТест равенства дисперсий:\")\n",
    "print(f\"F-статистика: {f_value}\")\n",
    "print(f\"P-значение: {p_value}\")\n",
    "print(f\"{'Отвергаем' if p_value < alpha else 'Не отвергаем'} нулевую гипотезу о равенстве дисперсий.\")"
   ]
  },
  {
   "cell_type": "markdown",
   "metadata": {},
   "source": [
    "### a. Проверка H1: D1 > D2"
   ]
  },
  {
   "cell_type": "code",
   "execution_count": 66,
   "metadata": {},
   "outputs": [
    {
     "name": "stdout",
     "output_type": "stream",
     "text": [
      "\n",
      "Проверка H1: D1 > D2:\n",
      "P-значение: 0.050099378240700765\n",
      "Не отвергаем нулевую гипотезу\n"
     ]
    }
   ],
   "source": [
    "p_value_greater = 1 - st.f.cdf(f_value, df1, df2)\n",
    "print(f\"\\nПроверка H1: D1 > D2:\")\n",
    "print(f\"P-значение: {p_value_greater}\")\n",
    "print(f\"{'Отвергаем нулевую гипотезу в пользу H1: D1 > D2.' if p_value < alpha else 'Не отвергаем нулевую гипотезу'}\")"
   ]
  },
  {
   "cell_type": "markdown",
   "metadata": {},
   "source": [
    "### b. Проверка H1: D1 ≠ D2"
   ]
  },
  {
   "cell_type": "code",
   "execution_count": 67,
   "metadata": {},
   "outputs": [
    {
     "name": "stdout",
     "output_type": "stream",
     "text": [
      "\n",
      "Проверка H1: D1 ≠ D2:\n",
      "P-значение: 0.10019875648140153\n",
      "Не отвергаем нулевую гипотезу\n"
     ]
    }
   ],
   "source": [
    "print(f\"\\nПроверка H1: D1 ≠ D2:\")\n",
    "print(f\"P-значение: {p_value}\")\n",
    "print(f\"{'Отвергаем нулевую гипотезу в пользу H1: D1 ≠ D2.' if p_value < alpha else 'Не отвергаем нулевую гипотезу'}\")"
   ]
  }
 ],
 "metadata": {
  "kernelspec": {
   "display_name": "Python 3",
   "language": "python",
   "name": "python3"
  },
  "language_info": {
   "codemirror_mode": {
    "name": "ipython",
    "version": 3
   },
   "file_extension": ".py",
   "mimetype": "text/x-python",
   "name": "python",
   "nbconvert_exporter": "python",
   "pygments_lexer": "ipython3",
   "version": "3.12.0"
  }
 },
 "nbformat": 4,
 "nbformat_minor": 2
}
